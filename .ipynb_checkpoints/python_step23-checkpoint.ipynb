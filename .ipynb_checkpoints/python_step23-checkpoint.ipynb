{
 "metadata": {
  "name": "",
  "signature": "sha256:4c87841117eb6dbda5c4509d690bb7fef30984de9654428231759cd05e30e0c9"
 },
 "nbformat": 3,
 "nbformat_minor": 0,
 "worksheets": [
  {
   "cells": [
    {
     "cell_type": "code",
     "collapsed": false,
     "input": [
      "import pandas as pd\n",
      "import numpy as np\n",
      "\n",
      "# For .read_csv, always use header=0 when you know row 0 is the header row\n",
      "df = pd.read_csv('/Users/konggas/titanic/Titanic/train.csv', header=0)\n",
      "test = pd.read_csv('/Users/konggas/titanic/Titanic/test.csv', header=0)"
     ],
     "language": "python",
     "metadata": {},
     "outputs": [],
     "prompt_number": 198
    },
    {
     "cell_type": "code",
     "collapsed": false,
     "input": [
      "#df\n",
      "#df.head(3)\n",
      "#type(df)\n",
      "type(test)\n",
      "#df.dtypes\n",
      "#df.info()\n",
      "#df.describe()\n",
      "set(df.Embarked)"
     ],
     "language": "python",
     "metadata": {},
     "outputs": [
      {
       "metadata": {},
       "output_type": "pyout",
       "prompt_number": 199,
       "text": [
        "{nan, 'C', 'Q', 'S'}"
       ]
      }
     ],
     "prompt_number": 199
    },
    {
     "cell_type": "code",
     "collapsed": false,
     "input": [
      "#df['Age'][0:10]\n",
      "#df.Age[0:10]\n",
      "#type(df['Age'])\n",
      "#df['Age'].mean()\n",
      "#df[ ['Sex', 'Pclass', 'Age'] ]"
     ],
     "language": "python",
     "metadata": {},
     "outputs": [],
     "prompt_number": 200
    },
    {
     "cell_type": "code",
     "collapsed": false,
     "input": [
      "#df[df['Age'] > 60][['Sex', 'Pclass', 'Age', 'Survived']]"
     ],
     "language": "python",
     "metadata": {},
     "outputs": [],
     "prompt_number": 201
    },
    {
     "cell_type": "code",
     "collapsed": false,
     "input": [
      "#df[df['Age'].isnull()][['Sex', 'Pclass', 'Age']]"
     ],
     "language": "python",
     "metadata": {},
     "outputs": [],
     "prompt_number": 202
    },
    {
     "cell_type": "code",
     "collapsed": false,
     "input": [
      "import pylab as P\n",
      "df['Age'].dropna().hist(bins=16, range=(0,80), alpha = .5)\n",
      "#P.show()"
     ],
     "language": "python",
     "metadata": {},
     "outputs": [
      {
       "metadata": {},
       "output_type": "pyout",
       "prompt_number": 203,
       "text": [
        "<matplotlib.axes.AxesSubplot at 0x1088114d0>"
       ]
      }
     ],
     "prompt_number": 203
    },
    {
     "cell_type": "code",
     "collapsed": false,
     "input": [
      "df['Gender'] = df['Sex'].map( {'female': 0, 'male': 1} ).astype(int)\n",
      "#df.Gender\n",
      "test['Gender'] = test['Sex'].map( {'female': 0, 'male': 1} ).astype(int)"
     ],
     "language": "python",
     "metadata": {},
     "outputs": [],
     "prompt_number": 204
    },
    {
     "cell_type": "code",
     "collapsed": false,
     "input": [
      "#sum(pd.isnull(df['Embarked']))\n",
      "#pd.isnull(df['Embarked'])\n",
      "df['Embarked'] = df['Embarked'].fillna('N')\n",
      "test['Embarked'] = test['Embarked'].fillna('N')\n",
      "#pd.isnull(df['Embarked'])\n",
      "#sum(df['Embarked'] == 'N' )"
     ],
     "language": "python",
     "metadata": {},
     "outputs": [],
     "prompt_number": 205
    },
    {
     "cell_type": "code",
     "collapsed": false,
     "input": [
      "df['Embark'] = df['Embarked'].map( {'C' : 1, 'Q' : 2, 'S' : 3, 'N' : 0} ).astype(int)\n",
      "test['Embark'] = test['Embarked'].map( {'C' : 1, 'Q' : 2, 'S' : 3, 'N' : 0} ).astype(int)"
     ],
     "language": "python",
     "metadata": {},
     "outputs": [],
     "prompt_number": 206
    },
    {
     "cell_type": "code",
     "collapsed": false,
     "input": [
      "median_ages = np.zeros((2,3))\n",
      "median_ages\n",
      "for i in range(0, 2):\n",
      "    for j in range(0, 3):\n",
      "        median_ages[i,j] = df[(df['Gender'] == i) & (df['Pclass'] == j+1)]['Age'].dropna().median()\n",
      " \n",
      "median_ages"
     ],
     "language": "python",
     "metadata": {},
     "outputs": [
      {
       "metadata": {},
       "output_type": "pyout",
       "prompt_number": 207,
       "text": [
        "array([[ 35. ,  28. ,  21.5],\n",
        "       [ 40. ,  30. ,  25. ]])"
       ]
      }
     ],
     "prompt_number": 207
    },
    {
     "cell_type": "code",
     "collapsed": false,
     "input": [
      "df['AgeFill'] = df['Age']\n",
      "test['AgeFill'] = test['Age']\n",
      "#df.head()\n",
      "#df[ df['Age'].isnull() ][['Gender','Pclass','Age','AgeFill']].head(10)"
     ],
     "language": "python",
     "metadata": {},
     "outputs": [],
     "prompt_number": 208
    },
    {
     "cell_type": "code",
     "collapsed": false,
     "input": [
      "for i in range(0, 2):\n",
      "    for j in range(0, 3):\n",
      "        df.loc[ (df.Age.isnull()) & (df.Gender == i) & (df.Pclass == j+1),'AgeFill'] = median_ages[i,j]\n",
      "        test.loc[ (test.Age.isnull()) & (test.Gender == i) & (test.Pclass == j+1),'AgeFill'] = median_ages[i,j]"
     ],
     "language": "python",
     "metadata": {},
     "outputs": [],
     "prompt_number": 209
    },
    {
     "cell_type": "code",
     "collapsed": false,
     "input": [
      "df['AgeIsNull'] = pd.isnull(df.Age).astype(int)\n",
      "test['AgeIsNull'] = pd.isnull(test.Age).astype(int)"
     ],
     "language": "python",
     "metadata": {},
     "outputs": [],
     "prompt_number": 210
    },
    {
     "cell_type": "code",
     "collapsed": false,
     "input": [
      "type(test)"
     ],
     "language": "python",
     "metadata": {},
     "outputs": [
      {
       "metadata": {},
       "output_type": "pyout",
       "prompt_number": 211,
       "text": [
        "pandas.core.frame.DataFrame"
       ]
      }
     ],
     "prompt_number": 211
    },
    {
     "cell_type": "code",
     "collapsed": false,
     "input": [
      "df['FamilySize'] = df['SibSp'] + df['Parch']\n",
      "test['FamilySize'] = test['SibSp'] + test['Parch']"
     ],
     "language": "python",
     "metadata": {},
     "outputs": [],
     "prompt_number": 212
    },
    {
     "cell_type": "code",
     "collapsed": false,
     "input": [
      "test['Age*Class'] = test.AgeFill * test.Pclass\n",
      "df['Age*Class'] = df.AgeFill * df.Pclass"
     ],
     "language": "python",
     "metadata": {},
     "outputs": [],
     "prompt_number": 213
    },
    {
     "cell_type": "code",
     "collapsed": false,
     "input": [
      "test.dtypes"
     ],
     "language": "python",
     "metadata": {},
     "outputs": [
      {
       "metadata": {},
       "output_type": "pyout",
       "prompt_number": 214,
       "text": [
        "PassengerId      int64\n",
        "Pclass           int64\n",
        "Name            object\n",
        "Sex             object\n",
        "Age            float64\n",
        "SibSp            int64\n",
        "Parch            int64\n",
        "Ticket          object\n",
        "Fare           float64\n",
        "Cabin           object\n",
        "Embarked        object\n",
        "Gender           int64\n",
        "Embark           int64\n",
        "AgeFill        float64\n",
        "AgeIsNull        int64\n",
        "FamilySize       int64\n",
        "Age*Class      float64\n",
        "dtype: object"
       ]
      }
     ],
     "prompt_number": 214
    },
    {
     "cell_type": "code",
     "collapsed": false,
     "input": [
      "#df.dtypes[df.dtypes.map(lambda x: x=='object')]\n",
      "#test.dtypes[test.dtypes.map(lambda x: x=='object')]"
     ],
     "language": "python",
     "metadata": {},
     "outputs": [],
     "prompt_number": 215
    },
    {
     "cell_type": "code",
     "collapsed": false,
     "input": [
      "df = df.drop(['Name', 'Sex', 'Ticket', 'Cabin', 'Embarked'], axis=1) \n",
      "test = test.drop(['Name', 'Sex', 'Ticket', 'Cabin', 'Embarked'], axis=1) "
     ],
     "language": "python",
     "metadata": {},
     "outputs": [],
     "prompt_number": 216
    },
    {
     "cell_type": "code",
     "collapsed": false,
     "input": [
      "df = df.drop(['Age'], axis=1)\n",
      "test = test.drop(['Age'], axis=1)"
     ],
     "language": "python",
     "metadata": {},
     "outputs": [],
     "prompt_number": 217
    },
    {
     "cell_type": "code",
     "collapsed": false,
     "input": [
      "df = df.dropna()\n",
      "test = test.dropna()"
     ],
     "language": "python",
     "metadata": {},
     "outputs": [],
     "prompt_number": 218
    },
    {
     "cell_type": "code",
     "collapsed": false,
     "input": [
      "print type(df.values)\n",
      "test_data = test.values\n",
      "print type(test.values)\n"
     ],
     "language": "python",
     "metadata": {},
     "outputs": [
      {
       "output_type": "stream",
       "stream": "stdout",
       "text": [
        "<type 'numpy.ndarray'>\n",
        "<type 'numpy.ndarray'>\n"
       ]
      }
     ],
     "prompt_number": 219
    },
    {
     "cell_type": "code",
     "collapsed": false,
     "input": [
      "train_data = df.values\n",
      "#train_data\n",
      "test_data = test.values"
     ],
     "language": "python",
     "metadata": {},
     "outputs": [],
     "prompt_number": 220
    },
    {
     "cell_type": "code",
     "collapsed": false,
     "input": [
      "# Import the random forest package\n",
      "from sklearn.ensemble import RandomForestClassifier "
     ],
     "language": "python",
     "metadata": {},
     "outputs": [],
     "prompt_number": 221
    },
    {
     "cell_type": "code",
     "collapsed": false,
     "input": [
      "# Create the random forest object which will include all the parameters\n",
      "# for the fit\n",
      "forest = RandomForestClassifier(n_estimators = 100)"
     ],
     "language": "python",
     "metadata": {},
     "outputs": [],
     "prompt_number": 222
    },
    {
     "cell_type": "code",
     "collapsed": false,
     "input": [
      "# Fit the training data to the Survived labels and create the decision trees\n",
      "forest = forest.fit(train_data[0::,1::],train_data[0::,0])"
     ],
     "language": "python",
     "metadata": {},
     "outputs": [],
     "prompt_number": 223
    },
    {
     "cell_type": "code",
     "collapsed": false,
     "input": [
      "test.describe()\n",
      "print type(test_data)\n",
      "sum(pd.isnull(test_data))"
     ],
     "language": "python",
     "metadata": {},
     "outputs": [
      {
       "output_type": "stream",
       "stream": "stdout",
       "text": [
        "<type 'numpy.ndarray'>\n"
       ]
      },
      {
       "metadata": {},
       "output_type": "pyout",
       "prompt_number": 229,
       "text": [
        "array([0, 0, 0, 0, 0, 0, 0, 0, 0, 0, 0])"
       ]
      }
     ],
     "prompt_number": 229
    },
    {
     "cell_type": "code",
     "collapsed": false,
     "input": [
      "# Take the same decision trees and run it on the test data\n",
      "output = forest.predict(test_data)"
     ],
     "language": "python",
     "metadata": {},
     "outputs": [],
     "prompt_number": 230
    },
    {
     "cell_type": "code",
     "collapsed": false,
     "input": [
      "output"
     ],
     "language": "python",
     "metadata": {},
     "outputs": [
      {
       "metadata": {},
       "output_type": "pyout",
       "prompt_number": 231,
       "text": [
        "array([ 570.,  133.,  571.,  822.,  824.,  221.,  511.,  581.,  876.,\n",
        "        566.,  108.,  188.,  152.,  250.,  766.,  867.,   22.,  554.,\n",
        "        217.,  204.,  514.,  752.,  257.,   98.,  300.,  483.,   98.,\n",
        "        554.,  708.,  302.,  250.,  656.,  329.,  889.,  371.,  763.,\n",
        "        416.,  107.,  822.,  644.,  363.,  508.,  401.,  748.,  578.,\n",
        "        128.,  210.,  829.,  367.,  280.,  725.,  548.,  601.,  342.,\n",
        "        548.,  788.,  580.,   76.,  640.,  326.,  221.,  674.,  205.,\n",
        "        290.,  312.,  597.,   45.,  463.,  633.,  439.,  290.,  392.,\n",
        "        217.,  453.,  259.,  738.,  445.,  572.,  674.,  290.,  126.,\n",
        "        276.,  461.,  108.,  548.,   66.,  217.,  205.,   48.,  341.,\n",
        "        143.,  108.,  764.,  445.,  890.,  147.,  276.,   82.,  316.,\n",
        "        430.,    2.,  544.,  829.,  147.,  353.,  822.,  392.,  829.,\n",
        "        445.,  229.,  289.,   83.,  326.,  787.,  276.,  831.,   37.,\n",
        "        173.,  584.,   54.,   85.,  215.,    2.,  805.,  829.,  856.,\n",
        "        392.,  331.,  289.,   90.,  430.,  648.,  568.,  215.,  415.,\n",
        "        128.,  554.,  674.,    3.,  679.,  481.,  270.,  588.,  563.,\n",
        "        708.,   86.,   56.,  392.,  508.,  802.,   98.,  421.,    9.,\n",
        "        183.,  128.,  731.,  650.,  708.,    9.,  698.,  490.,  346.,\n",
        "        612.,  289.,  329.,  210.,  425.,  257.,  555.,  108.,  554.,\n",
        "        143.,   37.,   26.,  238.,  428.,  600.,  473.,  880.,  674.,\n",
        "        836.,  782.,  829.,  320.,  289.,  652.,  665.,  793.,  289.,\n",
        "        544.,  508.,  490.,  571.,  238.,  570.,  551.,  787.,  227.,\n",
        "        565.,  359.,  804.,  646.,  751.,  718.,  840.,  511.,  227.,\n",
        "        843.,  128.,  430.,  612.,  792.,  250.,   69.,  708.,  359.,\n",
        "        857.,  300.,  445.,  867.,  392.,   57.,  392.,  195.,  534.,\n",
        "        392.,   48.,  401.,   22.,  792.,  628.,  372.,  829.,    2.,\n",
        "        284.,  367.,  763.,  418.,  557.,  195.,  441.,  320.,  108.,\n",
        "        784.,  622.,  428.,  315.,   54.,  241.,   59.,  284.,  485.,\n",
        "        771.,  430.,  108.,  829.,  822.,  428.,  392.,  560.,  392.,\n",
        "        507.,  173.,  548.,  108.,  816.,  108.,  416.,  221.,  210.,\n",
        "        829.,  394.,  187.,   37.,  547.,  884.,  433.,  544.,  227.,\n",
        "          3.,  756.,   48.,  853.,  173.,  401.,  108.,  725.,   37.,\n",
        "        445.,   56.,  805.,   37.,  263.,  401.,    3.,   44.,  302.,\n",
        "         24.,   82.,  570.,  548.,  273.,  822.,   48.,  276.,  391.,\n",
        "        480.,  821.,  133.,  205.,  554.,  108.,  290.,  196.,  157.,\n",
        "        497.,  227.,  147.,  121.,  147.,   37.,  674.,  448.,  610.,\n",
        "        128.,  619.,  790.,  544.,  227.,  755.,  210.,   37.,  623.,\n",
        "        147.,  431.,  674.,  256.,  344.,   37.,  227.,  570.,  679.,\n",
        "        300.,  710.,  157.,  674.,  662.,  346.,  748.,  524.,  718.,\n",
        "        386.,  755.,  789.,  858.,  572.,  108.,  829.,  143.,  684.,\n",
        "        581.,  748.,  822.,  371.,  679.,   66.,  555.,  524.,  548.,\n",
        "        862.,  538.,  264.,  289.,  821.,  381.,  143.,  227.,  450.,\n",
        "        234.,  829.,  511.,   29.,  193.,   18.,  616.,  128.,  571.,\n",
        "        422.,   25.,  709.,  766.,  166.,  289.,  329.,  782.,  128.,\n",
        "        836.,  392.,  511.,  521.,  544.,   98.,  505.,  646.,  474.,\n",
        "        862.,  699.,  698.,  349.,   48.,  413.,  316.,  445.,  338.,\n",
        "        401.,  445.,   66.])"
       ]
      }
     ],
     "prompt_number": 231
    },
    {
     "cell_type": "code",
     "collapsed": false,
     "input": [],
     "language": "python",
     "metadata": {},
     "outputs": []
    }
   ],
   "metadata": {}
  }
 ]
}