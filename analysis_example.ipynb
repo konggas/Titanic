{
 "metadata": {
  "name": "",
  "signature": "sha256:6b401fe06eb0d65d4274791cb9c51d07950ff3a86f6335c0aab5c433ec4cdbc7"
 },
 "nbformat": 3,
 "nbformat_minor": 0,
 "worksheets": [
  {
   "cells": [
    {
     "cell_type": "code",
     "collapsed": false,
     "input": [
      "#https://www.kaggle.com/c/titanic-gettingStarted/details/getting-started-with-python\n",
      "\n",
      "# The first thing to do is to import the relevant packages\n",
      "# that I will need for my script, \n",
      "# these include the Numpy (for maths and arrays)\n",
      "# and csv for reading and writing csv files\n",
      "# If i want to use something from this I need to call \n",
      "# csv.[function] or np.[function] first\n",
      "\n",
      "import csv as csv\n",
      "import numpy as np\n",
      "import platform\n",
      "\n",
      "# Open up the csv file in to a Python object\n",
      "if platform.system() == 'Darwin':\n",
      "    csv_file_object = csv.reader(open('/Users/konggas/titanic/Titanic/train.csv', 'rb'))\n",
      "else:\n",
      "    csv_file_object = csv.reader(open('C:/Users/sekong/titanic/train.csv', 'rb'))\n",
      "    \n",
      "header = csv_file_object.next() # The next() command just skips the \n",
      "# first line which is a header\n",
      "data=[] # Create a variable called 'data'.\n",
      "for row in csv_file_object: # Run through each row in the csv file,\n",
      "    data.append(row) # adding each row to the data variable\n",
      "data = np.array(data) # Then convert from a list to an array\n",
      "# Be aware that each item is currently\n",
      "# a string in this format\n",
      "\n",
      "# The size() function counts how many elements are in\n",
      "# in the array and sum() (as you would expects) sums up\n",
      "# the elements in the array.\n",
      "\n",
      "number_passengers = np.size(data[0::,1].astype(np.float))\n",
      "number_survived = np.sum(data[0::,1].astype(np.float))\n",
      "proportion_survivors = number_survived / number_passengers"
     ],
     "language": "python",
     "metadata": {},
     "outputs": [],
     "prompt_number": 12
    },
    {
     "cell_type": "code",
     "collapsed": false,
     "input": [
      "women_only_stats = data[0::,4] == \"female\" # This finds where all \n",
      "                                           # the elements in the gender\n",
      "                                           # column that equals \u201cfemale\u201d\n",
      "men_only_stats = data[0::,4] != \"female\"   # This finds where all the \n",
      "                                           # elements do not equal \n",
      "                                           # female (i.e. male)"
     ],
     "language": "python",
     "metadata": {},
     "outputs": [],
     "prompt_number": 13
    },
    {
     "cell_type": "code",
     "collapsed": false,
     "input": [
      "# Using the index from above we select the females and males separately\n",
      "women_onboard = data[women_only_stats,1].astype(np.float)     \n",
      "men_onboard = data[men_only_stats,1].astype(np.float)\n",
      "\n",
      "# Then we finds the proportions of them that survived\n",
      "proportion_women_survived = \\\n",
      "                       np.sum(women_onboard) / np.size(women_onboard)  \n",
      "proportion_men_survived = \\\n",
      "                       np.sum(men_onboard) / np.size(men_onboard) \n",
      "\n",
      "# and then print it out\n",
      "print 'Proportion of women who survived is %s' % proportion_women_survived\n",
      "print 'Proportion of men who survived is %s' % proportion_men_survived\n"
     ],
     "language": "python",
     "metadata": {},
     "outputs": [
      {
       "output_type": "stream",
       "stream": "stdout",
       "text": [
        "Proportion of women who survived is 0.742038216561\n",
        "Proportion of men who survived is 0.188908145581\n"
       ]
      }
     ],
     "prompt_number": 14
    },
    {
     "cell_type": "code",
     "collapsed": false,
     "input": [
      "if platform.system() == 'Darwin':\n",
      "    test_file = open('/Users/konggas/titanic/Titanic/test.csv', 'rb')\n",
      "test_file_object = csv.reader(test_file)\n",
      "header = test_file_object.next()\n",
      "\n",
      "\n",
      "prediction_file = open(\"/Users/konggas/titanic/Titanic/genderbasedmodel.csv\", \"wb\")\n",
      "prediction_file_object = csv.writer(prediction_file)\n",
      "\n",
      "prediction_file_object.writerow([\"PassengerId\", \"Survived\"])\n",
      "for row in test_file_object:       # For each row in test.csv\n",
      "    if row[3] == 'female':         # is it a female, if yes then                                       \n",
      "        prediction_file_object.writerow([row[0],'1'])    # predict 1\n",
      "    else:                              # or else if male,       \n",
      "        prediction_file_object.writerow([row[0],'0'])    # predict 0\n",
      "test_file.close()\n",
      "prediction_file.close()"
     ],
     "language": "python",
     "metadata": {},
     "outputs": [],
     "prompt_number": 15
    },
    {
     "cell_type": "code",
     "collapsed": false,
     "input": [],
     "language": "python",
     "metadata": {},
     "outputs": []
    }
   ],
   "metadata": {}
  }
 ]
}